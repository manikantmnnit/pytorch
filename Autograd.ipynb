{
  "cells": [
    {
      "cell_type": "markdown",
      "metadata": {
        "id": "view-in-github",
        "colab_type": "text"
      },
      "source": [
        "<a href=\"https://colab.research.google.com/github/manikantmnnit/pytorch/blob/main/Autograd.ipynb\" target=\"_parent\"><img src=\"https://colab.research.google.com/assets/colab-badge.svg\" alt=\"Open In Colab\"/></a>"
      ]
    },
    {
      "cell_type": "code",
      "execution_count": 1,
      "metadata": {
        "id": "O3YiuyGM8csX"
      },
      "outputs": [],
      "source": [
        "import torch\n",
        "import torch.nn as nn   # create module of nn\n",
        "\n",
        "import matplotlib.pyplot as plt\n",
        "import math"
      ]
    },
    {
      "cell_type": "markdown",
      "metadata": {
        "id": "oBO45CaG8csX"
      },
      "source": [
        "Let's create an input tensor which has evenly spaced values on the interval $[0, 2{\\pi}]$, and specify `requires_grad=True`. (Like most functions that create tensors, `torch.linspace()` accepts an optional `requires_grad` option.)\n",
        "\n",
        "Setting `required_grad=True` we are telling PyTorch that we want to compute gradients with respect to that tensor during the backward pass and it signals\n",
        "PyTorch that all the `operations` on this tensor should be tracked.\n",
        "\n",
        "This means that in every computation that follows, autograd will be accumulating the history of the computation in the output tensors of that computation."
      ]
    },
    {
      "cell_type": "code",
      "source": [
        "dir(torch)"
      ],
      "metadata": {
        "colab": {
          "base_uri": "https://localhost:8080/"
        },
        "id": "kdS2R_6lEmAb",
        "outputId": "e6fb0350-6876-4f92-f3ac-4cf57369c7af"
      },
      "execution_count": 2,
      "outputs": [
        {
          "output_type": "execute_result",
          "data": {
            "text/plain": [
              "['AVG',\n",
              " 'AggregationType',\n",
              " 'AliasDb',\n",
              " 'Any',\n",
              " 'AnyType',\n",
              " 'Argument',\n",
              " 'ArgumentSpec',\n",
              " 'AwaitType',\n",
              " 'BFloat16Storage',\n",
              " 'BFloat16Tensor',\n",
              " 'BenchmarkConfig',\n",
              " 'BenchmarkExecutionStats',\n",
              " 'Block',\n",
              " 'BoolStorage',\n",
              " 'BoolTensor',\n",
              " 'BoolType',\n",
              " 'BufferDict',\n",
              " 'ByteStorage',\n",
              " 'ByteTensor',\n",
              " 'CallStack',\n",
              " 'Callable',\n",
              " 'Capsule',\n",
              " 'CharStorage',\n",
              " 'CharTensor',\n",
              " 'ClassType',\n",
              " 'Code',\n",
              " 'CompilationUnit',\n",
              " 'CompleteArgumentSpec',\n",
              " 'ComplexDoubleStorage',\n",
              " 'ComplexFloatStorage',\n",
              " 'ComplexType',\n",
              " 'ConcreteModuleType',\n",
              " 'ConcreteModuleTypeBuilder',\n",
              " 'DeepCopyMemoTable',\n",
              " 'DeserializationStorageContext',\n",
              " 'DeviceObjType',\n",
              " 'Dict',\n",
              " 'DictType',\n",
              " 'DisableTorchFunction',\n",
              " 'DisableTorchFunctionSubclass',\n",
              " 'DispatchKey',\n",
              " 'DispatchKeySet',\n",
              " 'DoubleStorage',\n",
              " 'DoubleTensor',\n",
              " 'EnumType',\n",
              " 'ErrorReport',\n",
              " 'Event',\n",
              " 'ExcludeDispatchKeyGuard',\n",
              " 'ExecutionPlan',\n",
              " 'FatalError',\n",
              " 'FileCheck',\n",
              " 'FloatStorage',\n",
              " 'FloatTensor',\n",
              " 'FloatType',\n",
              " 'FunctionSchema',\n",
              " 'Future',\n",
              " 'FutureType',\n",
              " 'Generator',\n",
              " 'GradScaler',\n",
              " 'Gradient',\n",
              " 'Graph',\n",
              " 'GraphExecutorState',\n",
              " 'HalfStorage',\n",
              " 'HalfTensor',\n",
              " 'IODescriptor',\n",
              " 'InferredType',\n",
              " 'IntStorage',\n",
              " 'IntTensor',\n",
              " 'IntType',\n",
              " 'InterfaceType',\n",
              " 'JITException',\n",
              " 'List',\n",
              " 'ListType',\n",
              " 'LiteScriptModule',\n",
              " 'LockingLogger',\n",
              " 'LoggerBase',\n",
              " 'LongStorage',\n",
              " 'LongTensor',\n",
              " 'ModuleDict',\n",
              " 'Node',\n",
              " 'NoneType',\n",
              " 'NoopLogger',\n",
              " 'NumberType',\n",
              " 'OperatorInfo',\n",
              " 'Optional',\n",
              " 'OptionalType',\n",
              " 'OutOfMemoryError',\n",
              " 'PRIVATE_OPS',\n",
              " 'ParameterDict',\n",
              " 'PyObjectType',\n",
              " 'PyTorchFileReader',\n",
              " 'PyTorchFileWriter',\n",
              " 'QInt32Storage',\n",
              " 'QInt8Storage',\n",
              " 'QUInt2x4Storage',\n",
              " 'QUInt4x2Storage',\n",
              " 'QUInt8Storage',\n",
              " 'RRefType',\n",
              " 'SUM',\n",
              " 'ScriptClass',\n",
              " 'ScriptClassFunction',\n",
              " 'ScriptDict',\n",
              " 'ScriptDictIterator',\n",
              " 'ScriptDictKeyIterator',\n",
              " 'ScriptFunction',\n",
              " 'ScriptList',\n",
              " 'ScriptListIterator',\n",
              " 'ScriptMethod',\n",
              " 'ScriptModule',\n",
              " 'ScriptModuleSerializer',\n",
              " 'ScriptObject',\n",
              " 'ScriptObjectProperty',\n",
              " 'SerializationStorageContext',\n",
              " 'Set',\n",
              " 'ShortStorage',\n",
              " 'ShortTensor',\n",
              " 'Size',\n",
              " 'StaticModule',\n",
              " 'Storage',\n",
              " 'StorageBase',\n",
              " 'Stream',\n",
              " 'StreamObjType',\n",
              " 'StringType',\n",
              " 'SymBool',\n",
              " 'SymBoolType',\n",
              " 'SymFloat',\n",
              " 'SymInt',\n",
              " 'SymIntType',\n",
              " 'TYPE_CHECKING',\n",
              " 'Tag',\n",
              " 'Tensor',\n",
              " 'TensorType',\n",
              " 'ThroughputBenchmark',\n",
              " 'TracingState',\n",
              " 'Tuple',\n",
              " 'TupleType',\n",
              " 'Type',\n",
              " 'TypedStorage',\n",
              " 'USE_GLOBAL_DEPS',\n",
              " 'USE_RTLD_GLOBAL_WITH_LIBTORCH',\n",
              " 'Union',\n",
              " 'UnionType',\n",
              " 'UntypedStorage',\n",
              " 'Use',\n",
              " 'Value',\n",
              " '_C',\n",
              " '_GLOBAL_DEVICE_CONTEXT',\n",
              " '_TorchCompileInductorWrapper',\n",
              " '_TorchCompileWrapper',\n",
              " '_TritonLibrary',\n",
              " '_VF',\n",
              " '__all__',\n",
              " '__annotations__',\n",
              " '__builtins__',\n",
              " '__cached__',\n",
              " '__config__',\n",
              " '__doc__',\n",
              " '__file__',\n",
              " '__future__',\n",
              " '__getattr__',\n",
              " '__loader__',\n",
              " '__name__',\n",
              " '__package__',\n",
              " '__path__',\n",
              " '__spec__',\n",
              " '__version__',\n",
              " '_adaptive_avg_pool2d',\n",
              " '_adaptive_avg_pool3d',\n",
              " '_add_batch_dim',\n",
              " '_add_relu',\n",
              " '_add_relu_',\n",
              " '_addmm_activation',\n",
              " '_aminmax',\n",
              " '_amp_foreach_non_finite_check_and_unscale_',\n",
              " '_amp_update_scale_',\n",
              " '_assert',\n",
              " '_assert_async',\n",
              " '_assert_scalar',\n",
              " '_assert_tensor_metadata',\n",
              " '_awaits',\n",
              " '_batch_norm_impl_index',\n",
              " '_cast_Byte',\n",
              " '_cast_Char',\n",
              " '_cast_Double',\n",
              " '_cast_Float',\n",
              " '_cast_Half',\n",
              " '_cast_Int',\n",
              " '_cast_Long',\n",
              " '_cast_Short',\n",
              " '_check',\n",
              " '_check_index',\n",
              " '_check_is_size',\n",
              " '_check_not_implemented',\n",
              " '_check_tensor_all',\n",
              " '_check_tensor_all_with',\n",
              " '_check_type',\n",
              " '_check_value',\n",
              " '_check_with',\n",
              " '_choose_qparams_per_tensor',\n",
              " '_chunk_cat',\n",
              " '_classes',\n",
              " '_coalesce',\n",
              " '_compile',\n",
              " '_compute_linear_combination',\n",
              " '_conj',\n",
              " '_conj_copy',\n",
              " '_conj_physical',\n",
              " '_constrain_as_size',\n",
              " '_convert_indices_from_coo_to_csr',\n",
              " '_convert_indices_from_csr_to_coo',\n",
              " '_convert_weight_to_int4pack',\n",
              " '_convolution',\n",
              " '_convolution_mode',\n",
              " '_copy_from',\n",
              " '_copy_from_and_resize',\n",
              " '_cslt_compress',\n",
              " '_cslt_sparse_mm',\n",
              " '_cslt_sparse_mm_search',\n",
              " '_ctc_loss',\n",
              " '_cudnn_ctc_loss',\n",
              " '_cudnn_init_dropout_state',\n",
              " '_cudnn_rnn',\n",
              " '_cudnn_rnn_flatten_weight',\n",
              " '_cufft_clear_plan_cache',\n",
              " '_cufft_get_plan_cache_max_size',\n",
              " '_cufft_get_plan_cache_size',\n",
              " '_cufft_set_plan_cache_max_size',\n",
              " '_cummax_helper',\n",
              " '_cummin_helper',\n",
              " '_custom_op',\n",
              " '_debug_has_internal_overlap',\n",
              " '_decomp',\n",
              " '_deprecated_attrs',\n",
              " '_dim_arange',\n",
              " '_dirichlet_grad',\n",
              " '_disable_dynamo',\n",
              " '_disable_functionalization',\n",
              " '_dispatch',\n",
              " '_efficientzerotensor',\n",
              " '_embedding_bag',\n",
              " '_embedding_bag_forward_only',\n",
              " '_empty_affine_quantized',\n",
              " '_empty_per_channel_affine_quantized',\n",
              " '_enable_functionalization',\n",
              " '_euclidean_dist',\n",
              " '_fake_quantize_learnable_per_channel_affine',\n",
              " '_fake_quantize_learnable_per_tensor_affine',\n",
              " '_fake_quantize_per_tensor_affine_cachemask_tensor_qparams',\n",
              " '_fft_c2c',\n",
              " '_fft_c2r',\n",
              " '_fft_r2c',\n",
              " '_fill_mem_eff_dropout_mask_',\n",
              " '_foobar',\n",
              " '_foreach_abs',\n",
              " '_foreach_abs_',\n",
              " '_foreach_acos',\n",
              " '_foreach_acos_',\n",
              " '_foreach_add',\n",
              " '_foreach_add_',\n",
              " '_foreach_addcdiv',\n",
              " '_foreach_addcdiv_',\n",
              " '_foreach_addcmul',\n",
              " '_foreach_addcmul_',\n",
              " '_foreach_asin',\n",
              " '_foreach_asin_',\n",
              " '_foreach_atan',\n",
              " '_foreach_atan_',\n",
              " '_foreach_ceil',\n",
              " '_foreach_ceil_',\n",
              " '_foreach_clamp_max',\n",
              " '_foreach_clamp_max_',\n",
              " '_foreach_clamp_min',\n",
              " '_foreach_clamp_min_',\n",
              " '_foreach_copy_',\n",
              " '_foreach_cos',\n",
              " '_foreach_cos_',\n",
              " '_foreach_cosh',\n",
              " '_foreach_cosh_',\n",
              " '_foreach_div',\n",
              " '_foreach_div_',\n",
              " '_foreach_erf',\n",
              " '_foreach_erf_',\n",
              " '_foreach_erfc',\n",
              " '_foreach_erfc_',\n",
              " '_foreach_exp',\n",
              " '_foreach_exp_',\n",
              " '_foreach_expm1',\n",
              " '_foreach_expm1_',\n",
              " '_foreach_floor',\n",
              " '_foreach_floor_',\n",
              " '_foreach_frac',\n",
              " '_foreach_frac_',\n",
              " '_foreach_lerp',\n",
              " '_foreach_lerp_',\n",
              " '_foreach_lgamma',\n",
              " '_foreach_lgamma_',\n",
              " '_foreach_log',\n",
              " '_foreach_log10',\n",
              " '_foreach_log10_',\n",
              " '_foreach_log1p',\n",
              " '_foreach_log1p_',\n",
              " '_foreach_log2',\n",
              " '_foreach_log2_',\n",
              " '_foreach_log_',\n",
              " '_foreach_max',\n",
              " '_foreach_maximum',\n",
              " '_foreach_maximum_',\n",
              " '_foreach_minimum',\n",
              " '_foreach_minimum_',\n",
              " '_foreach_mul',\n",
              " '_foreach_mul_',\n",
              " '_foreach_neg',\n",
              " '_foreach_neg_',\n",
              " '_foreach_norm',\n",
              " '_foreach_pow',\n",
              " '_foreach_pow_',\n",
              " '_foreach_reciprocal',\n",
              " '_foreach_reciprocal_',\n",
              " '_foreach_round',\n",
              " '_foreach_round_',\n",
              " '_foreach_sigmoid',\n",
              " '_foreach_sigmoid_',\n",
              " '_foreach_sign',\n",
              " '_foreach_sign_',\n",
              " '_foreach_sin',\n",
              " '_foreach_sin_',\n",
              " '_foreach_sinh',\n",
              " '_foreach_sinh_',\n",
              " '_foreach_sqrt',\n",
              " '_foreach_sqrt_',\n",
              " '_foreach_sub',\n",
              " '_foreach_sub_',\n",
              " '_foreach_tan',\n",
              " '_foreach_tan_',\n",
              " '_foreach_tanh',\n",
              " '_foreach_tanh_',\n",
              " '_foreach_trunc',\n",
              " '_foreach_trunc_',\n",
              " '_foreach_zero_',\n",
              " '_freeze_functional_tensor',\n",
              " '_from_functional_tensor',\n",
              " '_functional_assert_async',\n",
              " '_functional_assert_scalar',\n",
              " '_functional_sym_constrain_range',\n",
              " '_functional_sym_constrain_range_for_size',\n",
              " '_functionalize_apply_view_metas',\n",
              " '_functionalize_are_all_mutations_hidden_from_autograd',\n",
              " '_functionalize_are_all_mutations_under_no_grad_or_inference_mode',\n",
              " '_functionalize_commit_update',\n",
              " '_functionalize_enable_reapply_views',\n",
              " '_functionalize_get_storage_size',\n",
              " '_functionalize_has_data_mutation',\n",
              " '_functionalize_has_metadata_mutation',\n",
              " '_functionalize_is_multi_output_view',\n",
              " '_functionalize_is_symbolic',\n",
              " '_functionalize_mark_mutation_hidden_from_autograd',\n",
              " '_functionalize_replace',\n",
              " '_functionalize_sync',\n",
              " '_functionalize_was_inductor_storage_resized',\n",
              " '_functionalize_was_storage_changed',\n",
              " '_functorch',\n",
              " '_fused_adagrad_',\n",
              " '_fused_adam_',\n",
              " '_fused_adamw_',\n",
              " '_fused_dropout',\n",
              " '_fused_moving_avg_obs_fq_helper',\n",
              " '_fused_sdp_choice',\n",
              " '_fused_sgd_',\n",
              " '_fw_primal_copy',\n",
              " '_grid_sampler_2d_cpu_fallback',\n",
              " '_guards',\n",
              " '_has_compatible_shallow_copy_type',\n",
              " '_higher_order_ops',\n",
              " '_histogramdd_bin_edges',\n",
              " '_histogramdd_from_bin_cts',\n",
              " '_histogramdd_from_bin_tensors',\n",
              " '_import_dotted_name',\n",
              " '_index_put_impl_',\n",
              " '_indices_copy',\n",
              " '_initExtension',\n",
              " '_int_mm',\n",
              " '_is_all_true',\n",
              " '_is_any_true',\n",
              " '_is_functional_tensor',\n",
              " '_is_zerotensor',\n",
              " '_jit_internal',\n",
              " '_lazy_clone',\n",
              " '_lazy_modules',\n",
              " '_library',\n",
              " '_linalg_check_errors',\n",
              " '_linalg_det',\n",
              " '_linalg_eigh',\n",
              " '_linalg_slogdet',\n",
              " '_linalg_solve_ex',\n",
              " '_linalg_svd',\n",
              " '_linalg_utils',\n",
              " '_load_global_deps',\n",
              " '_lobpcg',\n",
              " '_log_softmax',\n",
              " '_log_softmax_backward_data',\n",
              " '_logcumsumexp',\n",
              " '_logging',\n",
              " '_lowrank',\n",
              " '_lstm_mps',\n",
              " '_lu_with_info',\n",
              " '_make_dep_token',\n",
              " '_make_dual',\n",
              " '_make_dual_copy',\n",
              " '_make_per_channel_quantized_tensor',\n",
              " '_make_per_tensor_quantized_tensor',\n",
              " '_masked_scale',\n",
              " '_masked_softmax',\n",
              " '_meta_registrations',\n",
              " '_mirror_autograd_meta_to',\n",
              " '_mixed_dtypes_linear',\n",
              " '_mkldnn',\n",
              " '_mkldnn_reshape',\n",
              " '_mkldnn_transpose',\n",
              " '_mkldnn_transpose_',\n",
              " '_mps_convolution',\n",
              " '_mps_convolution_transpose',\n",
              " '_namedtensor_internals',\n",
              " '_native_batch_norm_legit',\n",
              " '_native_batch_norm_legit_no_training',\n",
              " '_native_multi_head_attention',\n",
              " '_neg_view',\n",
              " '_neg_view_copy',\n",
              " '_nested_compute_contiguous_strides_offsets',\n",
              " '_nested_from_padded',\n",
              " '_nested_from_padded_and_nested_example',\n",
              " '_nested_get_jagged_dummy',\n",
              " '_nested_get_lengths',\n",
              " '_nested_get_offsets',\n",
              " '_nested_get_ragged_idx',\n",
              " '_nested_get_values',\n",
              " '_nested_get_values_copy',\n",
              " '_nested_tensor_from_mask',\n",
              " '_nested_tensor_from_mask_left_aligned',\n",
              " '_nested_tensor_from_tensor_list',\n",
              " '_nested_tensor_softmax_with_shape',\n",
              " '_nested_view_from_buffer',\n",
              " '_nested_view_from_buffer_copy',\n",
              " '_nested_view_from_jagged',\n",
              " '_nested_view_from_jagged_copy',\n",
              " '_nnpack_available',\n",
              " '_nnpack_spatial_convolution',\n",
              " '_ops',\n",
              " '_pack_padded_sequence',\n",
              " '_pad_packed_sequence',\n",
              " '_pin_memory',\n",
              " '_preload_cuda_deps',\n",
              " '_prelu_kernel',\n",
              " '_prims',\n",
              " '_prims_common',\n",
              " '_print',\n",
              " '_propagate_xla_data',\n",
              " '_refs',\n",
              " '_register_device_module',\n",
              " '_remove_batch_dim',\n",
              " '_reshape_alias_copy',\n",
              " '_reshape_from_tensor',\n",
              " '_resize_output_',\n",
              " '_rowwise_prune',\n",
              " '_running_with_deploy',\n",
              " '_sample_dirichlet',\n",
              " '_saturate_weight_to_fp16',\n",
              " '_scaled_dot_product_attention_math',\n",
              " '_scaled_dot_product_cudnn_attention',\n",
              " '_scaled_dot_product_efficient_attention',\n",
              " '_scaled_dot_product_flash_attention',\n",
              " '_scaled_dot_product_flash_attention_for_cpu',\n",
              " '_scaled_mm',\n",
              " '_segment_reduce',\n",
              " '_shape_as_tensor',\n",
              " '_sobol_engine_draw',\n",
              " '_sobol_engine_ff_',\n",
              " '_sobol_engine_initialize_state_',\n",
              " '_sobol_engine_scramble_',\n",
              " '_softmax',\n",
              " '_softmax_backward_data',\n",
              " '_sources',\n",
              " '_sparse_broadcast_to',\n",
              " '_sparse_broadcast_to_copy',\n",
              " '_sparse_csr_prod',\n",
              " '_sparse_csr_sum',\n",
              " '_sparse_log_softmax_backward_data',\n",
              " '_sparse_semi_structured_addmm',\n",
              " '_sparse_semi_structured_apply',\n",
              " '_sparse_semi_structured_apply_dense',\n",
              " '_sparse_semi_structured_linear',\n",
              " '_sparse_semi_structured_mm',\n",
              " '_sparse_semi_structured_tile',\n",
              " '_sparse_softmax_backward_data',\n",
              " '_sparse_sparse_matmul',\n",
              " '_sparse_sum',\n",
              " '_stack',\n",
              " '_standard_gamma',\n",
              " '_standard_gamma_grad',\n",
              " '_storage_classes',\n",
              " '_streambase',\n",
              " '_strobelight',\n",
              " '_subclasses',\n",
              " '_sym_acos',\n",
              " '_sym_asin',\n",
              " '_sym_atan',\n",
              " '_sym_cos',\n",
              " '_sym_cosh',\n",
              " '_sym_sin',\n",
              " '_sym_sinh',\n",
              " '_sym_sqrt',\n",
              " '_sym_tan',\n",
              " '_sym_tanh',\n",
              " '_sync',\n",
              " '_tensor',\n",
              " '_tensor_classes',\n",
              " '_tensor_str',\n",
              " '_test_autograd_multiple_dispatch',\n",
              " '_test_autograd_multiple_dispatch_view',\n",
              " '_test_autograd_multiple_dispatch_view_copy',\n",
              " '_test_check_tensor',\n",
              " '_test_functorch_fallback',\n",
              " '_test_parallel_materialize',\n",
              " '_test_serialization_subcmul',\n",
              " '_to_cpu',\n",
              " '_to_functional_tensor',\n",
              " '_to_sparse_semi_structured',\n",
              " '_transform_bias_rescale_qkv',\n",
              " '_transformer_encoder_layer_fwd',\n",
              " '_trilinear',\n",
              " '_triton_multi_head_attention',\n",
              " '_triton_scaled_dot_attention',\n",
              " '_unique',\n",
              " '_unique2',\n",
              " '_unpack_dual',\n",
              " '_unsafe_index',\n",
              " '_unsafe_index_put',\n",
              " '_use_cudnn_ctc_loss',\n",
              " '_use_cudnn_rnn_flatten_weight',\n",
              " '_utils',\n",
              " '_utils_internal',\n",
              " '_validate_compressed_sparse_indices',\n",
              " '_validate_sparse_bsc_tensor_args',\n",
              " '_validate_sparse_bsr_tensor_args',\n",
              " '_validate_sparse_compressed_tensor_args',\n",
              " '_validate_sparse_coo_tensor_args',\n",
              " '_validate_sparse_csc_tensor_args',\n",
              " '_validate_sparse_csr_tensor_args',\n",
              " '_values_copy',\n",
              " '_vendor',\n",
              " '_vmap_internals',\n",
              " '_warn_typed_storage_removal',\n",
              " '_weight_int4pack_mm',\n",
              " '_weight_int8pack_mm',\n",
              " '_weight_norm',\n",
              " '_weight_norm_interface',\n",
              " '_weights_only_unpickler',\n",
              " 'abs',\n",
              " 'abs_',\n",
              " 'absolute',\n",
              " 'acos',\n",
              " 'acos_',\n",
              " 'acosh',\n",
              " 'acosh_',\n",
              " 'adaptive_avg_pool1d',\n",
              " 'adaptive_max_pool1d',\n",
              " 'add',\n",
              " 'addbmm',\n",
              " 'addcdiv',\n",
              " 'addcmul',\n",
              " 'addmm',\n",
              " 'addmv',\n",
              " 'addmv_',\n",
              " 'addr',\n",
              " 'adjoint',\n",
              " 'affine_grid_generator',\n",
              " 'alias_copy',\n",
              " 'align_tensors',\n",
              " 'all',\n",
              " 'allclose',\n",
              " 'alpha_dropout',\n",
              " 'alpha_dropout_',\n",
              " 'amax',\n",
              " 'amin',\n",
              " 'aminmax',\n",
              " 'amp',\n",
              " 'angle',\n",
              " 'any',\n",
              " 'ao',\n",
              " 'arange',\n",
              " 'arccos',\n",
              " 'arccos_',\n",
              " 'arccosh',\n",
              " 'arccosh_',\n",
              " 'arcsin',\n",
              " 'arcsin_',\n",
              " 'arcsinh',\n",
              " 'arcsinh_',\n",
              " 'arctan',\n",
              " 'arctan2',\n",
              " 'arctan_',\n",
              " 'arctanh',\n",
              " 'arctanh_',\n",
              " 'are_deterministic_algorithms_enabled',\n",
              " 'argmax',\n",
              " 'argmin',\n",
              " 'argsort',\n",
              " 'argwhere',\n",
              " 'as_strided',\n",
              " 'as_strided_',\n",
              " 'as_strided_copy',\n",
              " 'as_strided_scatter',\n",
              " 'as_tensor',\n",
              " 'asarray',\n",
              " 'asin',\n",
              " 'asin_',\n",
              " 'asinh',\n",
              " 'asinh_',\n",
              " 'atan',\n",
              " 'atan2',\n",
              " 'atan_',\n",
              " 'atanh',\n",
              " 'atanh_',\n",
              " 'atleast_1d',\n",
              " 'atleast_2d',\n",
              " 'atleast_3d',\n",
              " 'autocast',\n",
              " 'autocast_decrement_nesting',\n",
              " 'autocast_increment_nesting',\n",
              " 'autograd',\n",
              " 'avg_pool1d',\n",
              " 'backends',\n",
              " 'baddbmm',\n",
              " 'bartlett_window',\n",
              " 'batch_norm',\n",
              " 'batch_norm_backward_elemt',\n",
              " 'batch_norm_backward_reduce',\n",
              " 'batch_norm_elemt',\n",
              " 'batch_norm_gather_stats',\n",
              " 'batch_norm_gather_stats_with_counts',\n",
              " 'batch_norm_stats',\n",
              " 'batch_norm_update_stats',\n",
              " 'bernoulli',\n",
              " 'bfloat16',\n",
              " 'bilinear',\n",
              " 'binary_cross_entropy_with_logits',\n",
              " 'bincount',\n",
              " 'binomial',\n",
              " 'bit',\n",
              " 'bits16',\n",
              " 'bits1x8',\n",
              " 'bits2x4',\n",
              " 'bits4x2',\n",
              " 'bits8',\n",
              " 'bitwise_and',\n",
              " 'bitwise_left_shift',\n",
              " 'bitwise_not',\n",
              " 'bitwise_or',\n",
              " 'bitwise_right_shift',\n",
              " 'bitwise_xor',\n",
              " 'blackman_window',\n",
              " 'block_diag',\n",
              " 'bmm',\n",
              " 'bool',\n",
              " 'broadcast_shapes',\n",
              " 'broadcast_tensors',\n",
              " 'broadcast_to',\n",
              " 'bucketize',\n",
              " 'builtins',\n",
              " 'can_cast',\n",
              " 'cartesian_prod',\n",
              " 'cat',\n",
              " 'ccol_indices_copy',\n",
              " 'cdist',\n",
              " 'cdouble',\n",
              " 'ceil',\n",
              " 'ceil_',\n",
              " 'celu',\n",
              " 'celu_',\n",
              " 'cfloat',\n",
              " 'chain_matmul',\n",
              " 'chalf',\n",
              " 'channel_shuffle',\n",
              " 'channels_last',\n",
              " 'channels_last_3d',\n",
              " 'cholesky',\n",
              " 'cholesky_inverse',\n",
              " 'cholesky_solve',\n",
              " 'choose_qparams_optimized',\n",
              " 'chunk',\n",
              " 'clamp',\n",
              " 'clamp_',\n",
              " 'clamp_max',\n",
              " 'clamp_max_',\n",
              " 'clamp_min',\n",
              " 'clamp_min_',\n",
              " 'classes',\n",
              " 'classproperty',\n",
              " 'clear_autocast_cache',\n",
              " 'clip',\n",
              " 'clip_',\n",
              " 'clone',\n",
              " 'col_indices_copy',\n",
              " 'column_stack',\n",
              " 'combinations',\n",
              " 'compile',\n",
              " 'compiled_with_cxx11_abi',\n",
              " 'compiler',\n",
              " 'complex',\n",
              " 'complex128',\n",
              " 'complex32',\n",
              " 'complex64',\n",
              " 'concat',\n",
              " 'concatenate',\n",
              " 'cond',\n",
              " 'conj',\n",
              " 'conj_physical',\n",
              " 'conj_physical_',\n",
              " 'constant_pad_nd',\n",
              " 'contiguous_format',\n",
              " 'conv1d',\n",
              " 'conv2d',\n",
              " 'conv3d',\n",
              " 'conv_tbc',\n",
              " 'conv_transpose1d',\n",
              " 'conv_transpose2d',\n",
              " 'conv_transpose3d',\n",
              " 'convolution',\n",
              " 'copysign',\n",
              " 'corrcoef',\n",
              " 'cos',\n",
              " 'cos_',\n",
              " 'cosh',\n",
              " 'cosh_',\n",
              " 'cosine_embedding_loss',\n",
              " 'cosine_similarity',\n",
              " 'count_nonzero',\n",
              " 'cov',\n",
              " 'cpp',\n",
              " 'cpu',\n",
              " 'cross',\n",
              " 'crow_indices_copy',\n",
              " 'ctc_loss',\n",
              " 'ctypes',\n",
              " 'cuda',\n",
              " 'cudnn_affine_grid_generator',\n",
              " 'cudnn_batch_norm',\n",
              " 'cudnn_convolution',\n",
              " 'cudnn_convolution_add_relu',\n",
              " 'cudnn_convolution_relu',\n",
              " 'cudnn_convolution_transpose',\n",
              " 'cudnn_grid_sampler',\n",
              " 'cudnn_is_acceptable',\n",
              " 'cummax',\n",
              " 'cummin',\n",
              " 'cumprod',\n",
              " 'cumsum',\n",
              " 'cumulative_trapezoid',\n",
              " 'default_generator',\n",
              " 'deg2rad',\n",
              " 'deg2rad_',\n",
              " 'dequantize',\n",
              " 'det',\n",
              " 'detach',\n",
              " 'detach_',\n",
              " 'detach_copy',\n",
              " 'device',\n",
              " 'diag',\n",
              " 'diag_embed',\n",
              " 'diagflat',\n",
              " 'diagonal',\n",
              " 'diagonal_copy',\n",
              " 'diagonal_scatter',\n",
              " 'diff',\n",
              " 'digamma',\n",
              " 'dist',\n",
              " 'distributed',\n",
              " 'distributions',\n",
              " 'div',\n",
              " 'divide',\n",
              " 'dot',\n",
              " 'double',\n",
              " 'dropout',\n",
              " 'dropout_',\n",
              " 'dsmm',\n",
              " 'dsplit',\n",
              " 'dstack',\n",
              " 'dtype',\n",
              " 'e',\n",
              " 'eig',\n",
              " 'einsum',\n",
              " 'embedding',\n",
              " 'embedding_bag',\n",
              " 'embedding_renorm_',\n",
              " 'empty',\n",
              " 'empty_like',\n",
              " 'empty_permuted',\n",
              " 'empty_quantized',\n",
              " 'empty_strided',\n",
              " 'enable_grad',\n",
              " 'eq',\n",
              " 'equal',\n",
              " 'erf',\n",
              " 'erf_',\n",
              " 'erfc',\n",
              " 'erfc_',\n",
              " 'erfinv',\n",
              " 'exp',\n",
              " 'exp2',\n",
              " 'exp2_',\n",
              " 'exp_',\n",
              " 'expand_copy',\n",
              " 'expm1',\n",
              " 'expm1_',\n",
              " 'export',\n",
              " 'eye',\n",
              " 'fake_quantize_per_channel_affine',\n",
              " 'fake_quantize_per_tensor_affine',\n",
              " 'fbgemm_linear_fp16_weight',\n",
              " 'fbgemm_linear_fp16_weight_fp32_activation',\n",
              " 'fbgemm_linear_int8_weight',\n",
              " 'fbgemm_linear_int8_weight_fp32_activation',\n",
              " 'fbgemm_linear_quantize_weight',\n",
              " 'fbgemm_pack_gemm_matrix_fp16',\n",
              " 'fbgemm_pack_quantized_matrix',\n",
              " 'feature_alpha_dropout',\n",
              " 'feature_alpha_dropout_',\n",
              " 'feature_dropout',\n",
              " 'feature_dropout_',\n",
              " 'fft',\n",
              " 'fill',\n",
              " 'fill_',\n",
              " 'finfo',\n",
              " 'fix',\n",
              " 'fix_',\n",
              " 'flatten',\n",
              " 'flip',\n",
              " 'fliplr',\n",
              " 'flipud',\n",
              " 'float',\n",
              " 'float16',\n",
              " 'float32',\n",
              " 'float64',\n",
              " 'float8_e4m3fn',\n",
              " 'float8_e4m3fnuz',\n",
              " 'float8_e5m2',\n",
              " 'float8_e5m2fnuz',\n",
              " 'float_power',\n",
              " 'floor',\n",
              " 'floor_',\n",
              " 'floor_divide',\n",
              " 'fmax',\n",
              " 'fmin',\n",
              " 'fmod',\n",
              " 'fork',\n",
              " 'frac',\n",
              " 'frac_',\n",
              " 'frexp',\n",
              " 'frobenius_norm',\n",
              " 'from_dlpack',\n",
              " 'from_file',\n",
              " 'from_numpy',\n",
              " 'frombuffer',\n",
              " 'full',\n",
              " 'full_like',\n",
              " 'func',\n",
              " 'functional',\n",
              " 'fused_moving_avg_obs_fake_quant',\n",
              " 'futures',\n",
              " 'fx',\n",
              " 'gather',\n",
              " 'gcd',\n",
              " 'gcd_',\n",
              " 'ge',\n",
              " 'geqrf',\n",
              " 'ger',\n",
              " 'get_autocast_cpu_dtype',\n",
              " 'get_autocast_dtype',\n",
              " 'get_autocast_gpu_dtype',\n",
              " 'get_autocast_ipu_dtype',\n",
              " 'get_autocast_xla_dtype',\n",
              " 'get_default_device',\n",
              " 'get_default_dtype',\n",
              " 'get_deterministic_debug_mode',\n",
              " 'get_device',\n",
              " 'get_device_module',\n",
              " 'get_file_path',\n",
              " 'get_float32_matmul_precision',\n",
              " 'get_num_interop_threads',\n",
              " 'get_num_threads',\n",
              " 'get_rng_state',\n",
              " 'gradient',\n",
              " 'greater',\n",
              " 'greater_equal',\n",
              " 'grid_sampler',\n",
              " 'grid_sampler_2d',\n",
              " 'grid_sampler_3d',\n",
              " 'group_norm',\n",
              " 'gru',\n",
              " 'gru_cell',\n",
              " 'gt',\n",
              " 'half',\n",
              " 'hamming_window',\n",
              " 'hann_window',\n",
              " 'hardshrink',\n",
              " 'has_lapack',\n",
              " 'has_mkl',\n",
              " 'has_openmp',\n",
              " 'has_spectral',\n",
              " 'heaviside',\n",
              " 'hinge_embedding_loss',\n",
              " 'histc',\n",
              " 'histogram',\n",
              " 'histogramdd',\n",
              " 'hsmm',\n",
              " 'hsplit',\n",
              " 'hspmm',\n",
              " 'hstack',\n",
              " 'hub',\n",
              " 'hypot',\n",
              " 'i0',\n",
              " 'i0_',\n",
              " 'igamma',\n",
              " 'igammac',\n",
              " 'iinfo',\n",
              " 'imag',\n",
              " 'import_ir_module',\n",
              " 'import_ir_module_from_buffer',\n",
              " 'importlib',\n",
              " 'index_add',\n",
              " 'index_copy',\n",
              " 'index_fill',\n",
              " 'index_put',\n",
              " 'index_put_',\n",
              " 'index_reduce',\n",
              " 'index_select',\n",
              " 'indices_copy',\n",
              " 'inf',\n",
              " 'inference_mode',\n",
              " 'init_num_threads',\n",
              " 'initial_seed',\n",
              " 'inner',\n",
              " 'inspect',\n",
              " 'instance_norm',\n",
              " 'int',\n",
              " 'int16',\n",
              " 'int32',\n",
              " 'int64',\n",
              " 'int8',\n",
              " 'int_repr',\n",
              " 'inverse',\n",
              " 'is_anomaly_check_nan_enabled',\n",
              " 'is_anomaly_enabled',\n",
              " 'is_autocast_cache_enabled',\n",
              " 'is_autocast_cpu_enabled',\n",
              " 'is_autocast_enabled',\n",
              " 'is_autocast_ipu_enabled',\n",
              " 'is_autocast_xla_enabled',\n",
              " 'is_complex',\n",
              " 'is_conj',\n",
              " 'is_deterministic_algorithms_warn_only_enabled',\n",
              " 'is_distributed',\n",
              " 'is_floating_point',\n",
              " 'is_grad_enabled',\n",
              " 'is_inference',\n",
              " 'is_inference_mode_enabled',\n",
              " 'is_neg',\n",
              " 'is_nonzero',\n",
              " 'is_same_size',\n",
              " 'is_signed',\n",
              " 'is_storage',\n",
              " 'is_tensor',\n",
              " 'is_vulkan_available',\n",
              " 'is_warn_always_enabled',\n",
              " 'isclose',\n",
              " 'isfinite',\n",
              " 'isin',\n",
              " 'isinf',\n",
              " 'isnan',\n",
              " 'isneginf',\n",
              " 'isposinf',\n",
              " 'isreal',\n",
              " 'istft',\n",
              " 'jagged',\n",
              " 'jit',\n",
              " 'kaiser_window',\n",
              " 'kl_div',\n",
              " 'kron',\n",
              " 'kthvalue',\n",
              " 'layer_norm',\n",
              " 'layout',\n",
              " 'lcm',\n",
              " 'lcm_',\n",
              " 'ldexp',\n",
              " 'ldexp_',\n",
              " 'le',\n",
              " 'legacy_contiguous_format',\n",
              " 'lerp',\n",
              " 'less',\n",
              " 'less_equal',\n",
              " 'lgamma',\n",
              " ...]"
            ]
          },
          "metadata": {},
          "execution_count": 2
        }
      ]
    },
    {
      "cell_type": "code",
      "source": [
        "# Create an empty tensor with the desired size and data type\n",
        "out_tensor = torch.empty(25, dtype=torch.int32)\n",
        "\n",
        "# Generate linear spaced values and fill the out_tensor\n",
        "torch.linspace(0, 5, steps=25,  out=out_tensor)"
      ],
      "metadata": {
        "colab": {
          "base_uri": "https://localhost:8080/"
        },
        "id": "Fs-le8KgFBHw",
        "outputId": "24bba309-18e4-4def-a8ae-1a020f6f035b"
      },
      "execution_count": 3,
      "outputs": [
        {
          "output_type": "execute_result",
          "data": {
            "text/plain": [
              "tensor([0, 0, 0, 0, 0, 1, 1, 1, 1, 1, 2, 2, 2, 2, 2, 3, 3, 3, 3, 3, 4, 4, 4, 4,\n",
              "        5], dtype=torch.int32)"
            ]
          },
          "metadata": {},
          "execution_count": 3
        }
      ]
    },
    {
      "cell_type": "code",
      "execution_count": 4,
      "metadata": {
        "colab": {
          "base_uri": "https://localhost:8080/"
        },
        "id": "1yk1FWYd8csY",
        "outputId": "095d75c7-b757-42e3-f1c1-24bdffb3e0df"
      },
      "outputs": [
        {
          "output_type": "stream",
          "name": "stdout",
          "text": [
            "tensor([0.0000, 0.2618, 0.5236, 0.7854, 1.0472, 1.3090, 1.5708, 1.8326, 2.0944,\n",
            "        2.3562, 2.6180, 2.8798, 3.1416, 3.4034, 3.6652, 3.9270, 4.1888, 4.4506,\n",
            "        4.7124, 4.9742, 5.2360, 5.4978, 5.7596, 6.0214, 6.2832],\n",
            "       requires_grad=True)\n"
          ]
        }
      ],
      "source": [
        "a = torch.linspace(0., 2. * math.pi, steps=25, requires_grad=True)\n",
        "print(a)"
      ]
    },
    {
      "cell_type": "code",
      "source": [
        "# Example operation\n",
        "b = torch.sin(a)  # Applies sine function element-wise\n",
        "print(b)\n",
        "\n",
        "# Sum the values to create a scalar for backpropagation\n",
        "c = b.sum()  # applies the sine function element-wise.\n",
        "print(c)\n",
        "\n",
        "# Perform backpropagation\n",
        "c.backward() # educes the tensor b into a scalar (required for calling backward()).\n",
        "\n",
        "# Check the gradients of a\n",
        "print(a.grad)  #  cosine of the corresponding elements in a."
      ],
      "metadata": {
        "colab": {
          "base_uri": "https://localhost:8080/"
        },
        "id": "SSaOEzwmj0e4",
        "outputId": "c5da4477-e37a-4fb6-82f5-5a7ea49b343a"
      },
      "execution_count": 5,
      "outputs": [
        {
          "output_type": "stream",
          "name": "stdout",
          "text": [
            "tensor([ 0.0000e+00,  2.5882e-01,  5.0000e-01,  7.0711e-01,  8.6603e-01,\n",
            "         9.6593e-01,  1.0000e+00,  9.6593e-01,  8.6603e-01,  7.0711e-01,\n",
            "         5.0000e-01,  2.5882e-01, -8.7423e-08, -2.5882e-01, -5.0000e-01,\n",
            "        -7.0711e-01, -8.6603e-01, -9.6593e-01, -1.0000e+00, -9.6593e-01,\n",
            "        -8.6603e-01, -7.0711e-01, -5.0000e-01, -2.5882e-01,  1.7485e-07],\n",
            "       grad_fn=<SinBackward0>)\n",
            "tensor(1.4504e-07, grad_fn=<SumBackward0>)\n",
            "tensor([ 1.0000e+00,  9.6593e-01,  8.6603e-01,  7.0711e-01,  5.0000e-01,\n",
            "         2.5882e-01, -4.3711e-08, -2.5882e-01, -5.0000e-01, -7.0711e-01,\n",
            "        -8.6603e-01, -9.6593e-01, -1.0000e+00, -9.6593e-01, -8.6603e-01,\n",
            "        -7.0711e-01, -5.0000e-01, -2.5882e-01,  1.1925e-08,  2.5882e-01,\n",
            "         5.0000e-01,  7.0711e-01,  8.6603e-01,  9.6593e-01,  1.0000e+00])\n"
          ]
        }
      ]
    },
    {
      "cell_type": "code",
      "source": [
        "# gradient of sin is cos\n",
        "torch.cos(a)==a.grad  # same values\n"
      ],
      "metadata": {
        "colab": {
          "base_uri": "https://localhost:8080/"
        },
        "id": "R2dFeEAdlhgc",
        "outputId": "92b79be5-3af1-4895-f576-fccd2b45b212"
      },
      "execution_count": 6,
      "outputs": [
        {
          "output_type": "execute_result",
          "data": {
            "text/plain": [
              "tensor([True, True, True, True, True, True, True, True, True, True, True, True,\n",
              "        True, True, True, True, True, True, True, True, True, True, True, True,\n",
              "        True])"
            ]
          },
          "metadata": {},
          "execution_count": 6
        }
      ]
    },
    {
      "cell_type": "code",
      "source": [
        "torch.sin(a)\n",
        "plt.plot(a.detach(),torch.sin(a).detach())"
      ],
      "metadata": {
        "colab": {
          "base_uri": "https://localhost:8080/",
          "height": 447
        },
        "id": "Hvv-BH5MigPk",
        "outputId": "419ce685-afc8-4596-816a-7891198d7166"
      },
      "execution_count": 7,
      "outputs": [
        {
          "output_type": "execute_result",
          "data": {
            "text/plain": [
              "[<matplotlib.lines.Line2D at 0x790c513b9360>]"
            ]
          },
          "metadata": {},
          "execution_count": 7
        },
        {
          "output_type": "display_data",
          "data": {
            "text/plain": [
              "<Figure size 640x480 with 1 Axes>"
            ],
            "image/png": "[encoded data removed]"
          },
          "metadata": {}
        }
      ]
    },
    {
      "cell_type": "code",
      "source": [
        "# detach() is useful when you want to perform operations on a tensor but you do not want those operations to be part of the gradient computation.\n",
        "a.detach()   # Gradients won't be calculated for the detached tensor during backpropagation."
      ],
      "metadata": {
        "colab": {
          "base_uri": "https://localhost:8080/"
        },
        "id": "qP4w3zVJMhrw",
        "outputId": "6610f969-a942-449c-9036-b14ebb2d052e"
      },
      "execution_count": 8,
      "outputs": [
        {
          "output_type": "execute_result",
          "data": {
            "text/plain": [
              "tensor([0.0000, 0.2618, 0.5236, 0.7854, 1.0472, 1.3090, 1.5708, 1.8326, 2.0944,\n",
              "        2.3562, 2.6180, 2.8798, 3.1416, 3.4034, 3.6652, 3.9270, 4.1888, 4.4506,\n",
              "        4.7124, 4.9742, 5.2360, 5.4978, 5.7596, 6.0214, 6.2832])"
            ]
          },
          "metadata": {},
          "execution_count": 8
        }
      ]
    },
    {
      "cell_type": "code",
      "source": [
        "b=torch.cos(a)\n",
        "print(b)\n",
        "plt.plot(a.detach(),b.detach())"
      ],
      "metadata": {
        "colab": {
          "base_uri": "https://localhost:8080/",
          "height": 551
        },
        "id": "-nODQuB0IapZ",
        "outputId": "120ebf70-4040-43c3-f10a-89cd24a0676a"
      },
      "execution_count": 9,
      "outputs": [
        {
          "output_type": "stream",
          "name": "stdout",
          "text": [
            "tensor([ 1.0000e+00,  9.6593e-01,  8.6603e-01,  7.0711e-01,  5.0000e-01,\n",
            "         2.5882e-01, -4.3711e-08, -2.5882e-01, -5.0000e-01, -7.0711e-01,\n",
            "        -8.6603e-01, -9.6593e-01, -1.0000e+00, -9.6593e-01, -8.6603e-01,\n",
            "        -7.0711e-01, -5.0000e-01, -2.5882e-01,  1.1925e-08,  2.5882e-01,\n",
            "         5.0000e-01,  7.0711e-01,  8.6603e-01,  9.6593e-01,  1.0000e+00],\n",
            "       grad_fn=<CosBackward0>)\n"
          ]
        },
        {
          "output_type": "execute_result",
          "data": {
            "text/plain": [
              "[<matplotlib.lines.Line2D at 0x790c4f2e8f70>]"
            ]
          },
          "metadata": {},
          "execution_count": 9
        },
        {
          "output_type": "display_data",
          "data": {
            "text/plain": [
              "<Figure size 640x480 with 1 Axes>"
            ],
            "image/png": "[encoded data removed]"
          },
          "metadata": {}
        }
      ]
    },
    {
      "cell_type": "markdown",
      "metadata": {
        "id": "ySkAd4lI8csY"
      },
      "source": [
        "Let's have a closer look at the tensor `b`. When we print it, we see an indicator that it is tracking its computation history:"
      ]
    },
    {
      "cell_type": "code",
      "execution_count": 10,
      "metadata": {
        "colab": {
          "base_uri": "https://localhost:8080/"
        },
        "id": "7M7fdzrc8csY",
        "outputId": "f0de7cdd-6d6c-4bd0-bc36-a4fba53fd2d8"
      },
      "outputs": [
        {
          "output_type": "stream",
          "name": "stdout",
          "text": [
            "tensor([ 1.0000e+00,  9.6593e-01,  8.6603e-01,  7.0711e-01,  5.0000e-01,\n",
            "         2.5882e-01, -4.3711e-08, -2.5882e-01, -5.0000e-01, -7.0711e-01,\n",
            "        -8.6603e-01, -9.6593e-01, -1.0000e+00, -9.6593e-01, -8.6603e-01,\n",
            "        -7.0711e-01, -5.0000e-01, -2.5882e-01,  1.1925e-08,  2.5882e-01,\n",
            "         5.0000e-01,  7.0711e-01,  8.6603e-01,  9.6593e-01,  1.0000e+00],\n",
            "       grad_fn=<CosBackward0>)\n"
          ]
        }
      ],
      "source": [
        "print(b)"
      ]
    },
    {
      "cell_type": "markdown",
      "metadata": {
        "id": "Kg3Csjt78csZ"
      },
      "source": [
        "This `grad_fn` gives us a hint that when we execute the backpropagation step and compute gradients, we'll need to compute the derivative of $sin(x)$ for all this tensor's inputs.\n",
        "\n",
        "Let's perform some more computations:"
      ]
    },
    {
      "cell_type": "code",
      "execution_count": 11,
      "metadata": {
        "colab": {
          "base_uri": "https://localhost:8080/"
        },
        "id": "ENWk8oZ98csZ",
        "outputId": "4d0afe05-02f4-45cc-bb28-b9bb6b50cfde"
      },
      "outputs": [
        {
          "output_type": "stream",
          "name": "stdout",
          "text": [
            "tensor([ 2.0000e+00,  1.9319e+00,  1.7321e+00,  1.4142e+00,  1.0000e+00,\n",
            "         5.1764e-01, -8.7423e-08, -5.1764e-01, -1.0000e+00, -1.4142e+00,\n",
            "        -1.7321e+00, -1.9319e+00, -2.0000e+00, -1.9319e+00, -1.7321e+00,\n",
            "        -1.4142e+00, -1.0000e+00, -5.1764e-01,  2.3850e-08,  5.1764e-01,\n",
            "         1.0000e+00,  1.4142e+00,  1.7321e+00,  1.9319e+00,  2.0000e+00],\n",
            "       grad_fn=<MulBackward0>)\n",
            "tensor([ 3.0000e+00,  2.9319e+00,  2.7321e+00,  2.4142e+00,  2.0000e+00,\n",
            "         1.5176e+00,  1.0000e+00,  4.8236e-01, -1.1921e-07, -4.1421e-01,\n",
            "        -7.3205e-01, -9.3185e-01, -1.0000e+00, -9.3185e-01, -7.3205e-01,\n",
            "        -4.1421e-01,  1.7881e-07,  4.8236e-01,  1.0000e+00,  1.5176e+00,\n",
            "         2.0000e+00,  2.4142e+00,  2.7321e+00,  2.9319e+00,  3.0000e+00],\n",
            "       grad_fn=<AddBackward0>)\n"
          ]
        }
      ],
      "source": [
        "# Performing Multiplication Operation\n",
        "c = 2 * b #sin(x)\n",
        "print(c)\n",
        "\n",
        "# Performing Addition Operation\n",
        "d = c + 1 #                                2 sin(x) + 1\n",
        "print(d)"
      ]
    },
    {
      "cell_type": "code",
      "source": [],
      "metadata": {
        "id": "t2s8KljAi2Rh"
      },
      "execution_count": 11,
      "outputs": []
    },
    {
      "cell_type": "markdown",
      "metadata": {
        "id": "OOwSTQLe8csZ"
      },
      "source": [
        "Finally, we compute a single-element output.Since when you call `.backward()` on a tensor with `no arguments`, it expects the calling tensor to contain only a single element, as is the case when computing a `loss function`."
      ]
    },
    {
      "cell_type": "code",
      "execution_count": 12,
      "metadata": {
        "colab": {
          "base_uri": "https://localhost:8080/"
        },
        "id": "hgX1ENw38csZ",
        "outputId": "dd8c3bc7-bd81-4be3-b5c5-4b9d9747b0e7"
      },
      "outputs": [
        {
          "output_type": "stream",
          "name": "stdout",
          "text": [
            "tensor(27., grad_fn=<SumBackward0>)\n"
          ]
        }
      ],
      "source": [
        "out = d.sum()\n",
        "print(out)"
      ]
    },
    {
      "cell_type": "markdown",
      "metadata": {
        "id": "CXPhVabM8csZ"
      },
      "source": [
        "Each `grad_fn` stored with our tensors allows us to walk the computation all the way back to its inputs with its `next_functions` property."
      ]
    },
    {
      "cell_type": "code",
      "source": [
        "print(a)\n",
        "a.grad_fn   # # Output: None because a is created directly, not as a result of any computation, so it doesn't have a grad_fn."
      ],
      "metadata": {
        "colab": {
          "base_uri": "https://localhost:8080/"
        },
        "id": "KOXywr4rm1GO",
        "outputId": "f99d2eeb-9144-4a7c-bb45-124e220ca1ba"
      },
      "execution_count": 13,
      "outputs": [
        {
          "output_type": "stream",
          "name": "stdout",
          "text": [
            "tensor([0.0000, 0.2618, 0.5236, 0.7854, 1.0472, 1.3090, 1.5708, 1.8326, 2.0944,\n",
            "        2.3562, 2.6180, 2.8798, 3.1416, 3.4034, 3.6652, 3.9270, 4.1888, 4.4506,\n",
            "        4.7124, 4.9742, 5.2360, 5.4978, 5.7596, 6.0214, 6.2832],\n",
            "       requires_grad=True)\n"
          ]
        }
      ]
    },
    {
      "cell_type": "code",
      "source": [
        "b=torch.sin(a)\n",
        "print(b)\n",
        "b.grad_fn   #   will display the grad_fn attribute for b. Since b is the result of torch.sin(a), it will show:\n",
        "# answer: <SinBackward0 at 0x7995826aeb90>  ----->      This part (SineBackward0) indicates the backward operation for the sine function  and  '0x7995826aeb90>  This is the memory address where the SineBackward0 object is stored in memory.\n",
        "\n",
        "b.grad_fn.next_functions"
      ],
      "metadata": {
        "colab": {
          "base_uri": "https://localhost:8080/"
        },
        "id": "oMfXfiasnrKv",
        "outputId": "95c8a6cc-7003-4e95-aa61-7f768619a351"
      },
      "execution_count": 14,
      "outputs": [
        {
          "output_type": "stream",
          "name": "stdout",
          "text": [
            "tensor([ 0.0000e+00,  2.5882e-01,  5.0000e-01,  7.0711e-01,  8.6603e-01,\n",
            "         9.6593e-01,  1.0000e+00,  9.6593e-01,  8.6603e-01,  7.0711e-01,\n",
            "         5.0000e-01,  2.5882e-01, -8.7423e-08, -2.5882e-01, -5.0000e-01,\n",
            "        -7.0711e-01, -8.6603e-01, -9.6593e-01, -1.0000e+00, -9.6593e-01,\n",
            "        -8.6603e-01, -7.0711e-01, -5.0000e-01, -2.5882e-01,  1.7485e-07],\n",
            "       grad_fn=<SinBackward0>)\n"
          ]
        },
        {
          "output_type": "execute_result",
          "data": {
            "text/plain": [
              "((<AccumulateGrad at 0x790c4f2fb4f0>, 0),)"
            ]
          },
          "metadata": {},
          "execution_count": 14
        }
      ]
    },
    {
      "cell_type": "code",
      "execution_count": 15,
      "metadata": {
        "colab": {
          "base_uri": "https://localhost:8080/"
        },
        "id": "GfmGPRdA8csZ",
        "outputId": "45ddb5c7-d4ca-4d25-f2f0-a06c5798e11a"
      },
      "outputs": [
        {
          "output_type": "stream",
          "name": "stdout",
          "text": [
            "d:\n",
            "<AddBackward0 object at 0x790c4f2a3f10>\n",
            "1\n",
            "((<MulBackward0 object at 0x790c4f2a0730>, 0), (None, 0))\n",
            "2\n",
            "((<CosBackward0 object at 0x790c4f2a0730>, 0), (None, 0))\n",
            "3\n",
            "((<AccumulateGrad object at 0x790c4f2fb4f0>, 0),)\n",
            "4\n",
            "()\n",
            "\n",
            "c:\n",
            "<MulBackward0 object at 0x790c4f2a0490>\n",
            "\n",
            "b:\n",
            "<SinBackward0 object at 0x790c4f2a0490>\n",
            "\n",
            "a:\n",
            "None\n"
          ]
        }
      ],
      "source": [
        "print('d:')\n",
        "print(d.grad_fn)\n",
        "print(\"1\")\n",
        "print(d.grad_fn.next_functions)\n",
        "print(\"2\")\n",
        "print(d.grad_fn.next_functions[0][0].next_functions)\n",
        "print(\"3\")\n",
        "print(d.grad_fn.next_functions[0][0].next_functions[0][0].next_functions)\n",
        "print(\"4\")\n",
        "print(d.grad_fn.next_functions[0][0].next_functions[0][0].next_functions[0][0].next_functions)\n",
        "print('\\nc:')\n",
        "print(c.grad_fn)\n",
        "print('\\nb:')\n",
        "print(b.grad_fn)\n",
        "print('\\na:')\n",
        "print(a.grad_fn)"
      ]
    },
    {
      "cell_type": "markdown",
      "metadata": {
        "id": "K8e_g4SO8csa"
      },
      "source": [
        "With everything in place, let's checkout how do we get derivatives out?\n",
        "\n",
        "We call the `backward()` method on the output, and then check the input's `grad` property to inspect the gradients:"
      ]
    },
    {
      "cell_type": "code",
      "execution_count": 16,
      "metadata": {
        "colab": {
          "base_uri": "https://localhost:8080/",
          "height": 517
        },
        "id": "753kj9e88csa",
        "outputId": "b434eae6-3f24-4027-cfe7-fdd8f8060c33"
      },
      "outputs": [
        {
          "output_type": "stream",
          "name": "stdout",
          "text": [
            "tensor([ 1.0000,  0.4483, -0.1340, -0.7071, -1.2321, -1.6730, -2.0000, -2.1907,\n",
            "        -2.2321, -2.1213, -1.8660, -1.4836, -1.0000, -0.4483,  0.1340,  0.7071,\n",
            "         1.2321,  1.6730,  2.0000,  2.1907,  2.2321,  2.1213,  1.8660,  1.4836,\n",
            "         1.0000])\n"
          ]
        },
        {
          "output_type": "execute_result",
          "data": {
            "text/plain": [
              "[<matplotlib.lines.Line2D at 0x790c4f2940d0>]"
            ]
          },
          "metadata": {},
          "execution_count": 16
        },
        {
          "output_type": "display_data",
          "data": {
            "text/plain": [
              "<Figure size 640x480 with 1 Axes>"
            ],
            "image/png": "[encoded data removed]"
          },
          "metadata": {}
        }
      ],
      "source": [
        "out.backward()\n",
        "print(a.grad)\n",
        "plt.plot(a.detach(), a.grad.detach())"
      ]
    },
    {
      "cell_type": "code",
      "source": [
        "\n",
        "\n",
        "# Create a tensor with requires_grad=True to track operations\n",
        "x = torch.tensor([2.0, 3.0], requires_grad=True)\n",
        "\n",
        "# Perform operations on x\n",
        "y = x**2 + 3*x + 1  # A quadratic function: y = x^2 + 3x + 1\n",
        "\n",
        "# Sum the result to get a scalar for backward()\n",
        "z = y.sum()\n",
        "\n",
        "# Perform backpropagation to compute gradients\n",
        "z.backward()\n",
        "\n",
        "# Output the gradients with respect to x\n",
        "print(\"x:\", x)\n",
        "print(\"y:\", y)\n",
        "print(\"Sum z:\", z)\n",
        "print(\"Gradients (dz/dx):\", x.grad)  # Should be the derivative of y = x^2 + 3x + 1 w.r.t x\n"
      ],
      "metadata": {
        "colab": {
          "base_uri": "https://localhost:8080/"
        },
        "id": "2GYcAmxcdoif",
        "outputId": "0125b9c5-f52d-4f29-b2e4-e26c99672da5"
      },
      "execution_count": 17,
      "outputs": [
        {
          "output_type": "stream",
          "name": "stdout",
          "text": [
            "x: tensor([2., 3.], requires_grad=True)\n",
            "y: tensor([11., 19.], grad_fn=<AddBackward0>)\n",
            "Sum z: tensor(30., grad_fn=<SumBackward0>)\n",
            "Gradients (dz/dx): tensor([7., 9.])\n"
          ]
        }
      ]
    },
    {
      "cell_type": "markdown",
      "metadata": {
        "id": "XqNW8Jhp8csa"
      },
      "source": [
        "## Autograd in Neural Network Training\n",
        "\n",
        "Let's see how does autograd is used for its intended purpose.\n",
        "\n",
        "Let's define a small model and examine how it changes after a single training batch."
      ]
    },
    {
      "cell_type": "code",
      "execution_count": 18,
      "metadata": {
        "id": "ivdvnJ138csa"
      },
      "outputs": [],
      "source": [
        "BATCH_SIZE = 16\n",
        "DIM_IN = 100\n",
        "HIDDEN_SIZE = 100\n",
        "DIM_OUT = 10"
      ]
    },
    {
      "cell_type": "code",
      "source": [
        "# Sample Input and Output for our Model\n",
        "\n",
        "torch.manual_seed(42)\n",
        "X = torch.randn(BATCH_SIZE, DIM_IN, requires_grad=False)\n",
        "Y = torch.randn(BATCH_SIZE, DIM_OUT, requires_grad=False)\n",
        "X,Y"
      ],
      "metadata": {
        "id": "yEstzlNQWKgr",
        "colab": {
          "base_uri": "https://localhost:8080/"
        },
        "outputId": "e506746a-a29d-4c8e-d30a-7f0a365aac50"
      },
      "execution_count": 19,
      "outputs": [
        {
          "output_type": "execute_result",
          "data": {
            "text/plain": [
              "(tensor([[ 1.9269,  1.4873,  0.9007,  ...,  0.4880,  0.7846,  0.0286],\n",
              "         [ 0.6408,  0.5832,  1.0669,  ...,  0.3581,  0.4788,  1.3537],\n",
              "         [ 0.5261,  2.1120, -0.5208,  ...,  0.2539,  0.9364,  0.7122],\n",
              "         ...,\n",
              "         [-0.7610, -1.2726, -0.6267,  ..., -0.3559, -0.5189, -0.3927],\n",
              "         [ 1.7512,  0.1959,  1.7758,  ..., -1.9629, -0.7806, -0.1344],\n",
              "         [-0.3609,  0.1046, -0.3259,  ...,  2.0556,  0.6603, -1.1078]]),\n",
              " tensor([[-0.2920,  0.4564, -0.3147, -0.4133,  0.3946,  1.1305,  0.8258,  0.9458,\n",
              "          -0.1545, -1.6013],\n",
              "         [-0.0595, -0.9929,  1.1634,  1.6095, -0.2942,  1.0819,  0.8866, -0.8611,\n",
              "          -0.2726,  0.9804],\n",
              "         [-0.1753, -0.1228,  0.7414,  0.3540, -0.5346,  0.6454, -2.9891,  0.1837,\n",
              "          -0.4727, -0.9588],\n",
              "         [-1.5124,  1.5068, -0.9381, -0.6385,  0.2195, -0.4392, -0.1391, -0.0187,\n",
              "           1.6561,  1.0661],\n",
              "         [-0.1819, -1.2380,  0.5142, -0.1510,  0.1377,  1.2251, -0.7643,  0.9184,\n",
              "           0.4058,  0.2510],\n",
              "         [ 0.1282, -0.1980, -1.4780, -0.5910,  0.8357, -0.2292, -1.2404,  0.2492,\n",
              "          -1.1416,  0.7821],\n",
              "         [ 0.0108,  0.3816, -1.6527, -0.3814,  0.1070, -0.1015,  0.0830,  0.7120,\n",
              "          -0.9006,  0.8907],\n",
              "         [ 0.4766, -0.8396,  0.3332, -1.2526, -0.5746, -1.9059, -0.9665,  0.3677,\n",
              "          -0.5786,  1.2373],\n",
              "         [ 0.8713, -0.5228,  1.2400, -0.9058,  0.7680,  1.6222,  0.0816,  0.2028,\n",
              "           0.3302, -0.9534],\n",
              "         [ 1.5735,  1.8697, -1.0639, -0.2273,  0.2501,  1.1618, -0.1142, -0.0563,\n",
              "           0.8497, -0.8599],\n",
              "         [-0.6106,  1.0629,  1.2222,  0.7719, -1.2797, -1.5433, -0.6020,  0.3214,\n",
              "          -0.0606, -1.1704],\n",
              "         [-2.7736, -0.0298, -0.9166,  0.4703,  1.8778,  0.5224,  0.0518,  0.4260,\n",
              "           0.9475,  0.4364],\n",
              "         [-0.2053, -1.4739,  0.5066,  0.2779,  1.3515, -0.8950, -1.5961,  0.6737,\n",
              "          -0.9971, -0.3481],\n",
              "         [ 0.2177,  1.1278, -1.5005, -0.2405, -0.4855, -0.0662, -0.9029,  0.6440,\n",
              "           0.7592, -2.0203],\n",
              "         [-0.6740, -0.9192,  1.2120, -1.3463, -0.4832,  1.7186, -0.5684, -2.9151,\n",
              "           1.0834,  0.0773],\n",
              "         [ 1.2317,  2.9194,  1.9378, -0.5536, -1.3030,  1.0696, -0.4562,  1.3635,\n",
              "          -2.4220, -0.0831]]))"
            ]
          },
          "metadata": {},
          "execution_count": 19
        }
      ]
    },
    {
      "cell_type": "code",
      "source": [
        "# Let's see how our data looks like\n",
        "print(X.shape)\n",
        "print(Y.shape)"
      ],
      "metadata": {
        "colab": {
          "base_uri": "https://localhost:8080/"
        },
        "id": "eMdPFtJ4WZZl",
        "outputId": "cf8f99a4-04c4-4a44-fa6d-dd0ce57156f1"
      },
      "execution_count": 20,
      "outputs": [
        {
          "output_type": "stream",
          "name": "stdout",
          "text": [
            "torch.Size([16, 100])\n",
            "torch.Size([16, 10])\n"
          ]
        }
      ]
    },
    {
      "cell_type": "code",
      "source": [
        "class Model(nn.Module):\n",
        "\n",
        "    def __init__(self):\n",
        "        super().__init__()\n",
        "\n",
        "        self.layer1 = torch.nn.Linear(100, 100)\n",
        "        self.sigmoid = torch.nn.Sigmoid()\n",
        "        self.layer2 = torch.nn.Linear(100, 10)\n",
        "        self.sigmoid = torch.nn.Sigmoid()\n",
        "        self.layer3 = torch.nn.Linear(10, 10)\n",
        "        self.sigmoid = torch.nn.Sigmoid()\n",
        "\n",
        "\n",
        "\n",
        "    def forward(self, x):\n",
        "        x = self.layer1(x)\n",
        "        x = self.sigmoid(x)\n",
        "        x = self.layer2(x)\n",
        "        x = self.sigmoid(x)\n",
        "        x = self.layer3(x)\n",
        "        x = self.sigmoid(x)\n",
        "        return x\n",
        "\n",
        "model = Model()"
      ],
      "metadata": {
        "id": "vdeSuR_eV5A2"
      },
      "execution_count": 21,
      "outputs": []
    },
    {
      "cell_type": "markdown",
      "metadata": {
        "id": "gzg1T1hY8csa"
      },
      "source": [
        "One thing to notice is that we need not to specify `requires_grad=True` for the model's layers.since within a subclass of `torch.nn.module`, it's assumed that we want to track gradients on the layers' weights for learning."
      ]
    },
    {
      "cell_type": "markdown",
      "source": [
        "##Let's Analyse out layers weights."
      ],
      "metadata": {
        "id": "BaWVFKjBXN9g"
      }
    },
    {
      "cell_type": "code",
      "source": [
        "print(model)\n",
        "dir(model.layer1)\n",
        "model.layer1.state_dict()['weight']\n",
        "model.layer1.state_dict()['bias']\n"
      ],
      "metadata": {
        "colab": {
          "base_uri": "https://localhost:8080/"
        },
        "id": "JsG9ETjTstGB",
        "outputId": "7ac5b9d2-246e-427e-896a-ac60a9b35f37"
      },
      "execution_count": 22,
      "outputs": [
        {
          "output_type": "stream",
          "name": "stdout",
          "text": [
            "Model(\n",
            "  (layer1): Linear(in_features=100, out_features=100, bias=True)\n",
            "  (sigmoid): Sigmoid()\n",
            "  (layer2): Linear(in_features=100, out_features=10, bias=True)\n",
            "  (layer3): Linear(in_features=10, out_features=10, bias=True)\n",
            ")\n"
          ]
        },
        {
          "output_type": "execute_result",
          "data": {
            "text/plain": [
              "tensor([-0.0421, -0.0467, -0.0077, -0.0195,  0.0676,  0.0466,  0.0770,  0.0784,\n",
              "         0.0854, -0.0950, -0.0227, -0.0096,  0.0716, -0.0008,  0.0379, -0.0093,\n",
              "        -0.0981,  0.0080, -0.0021, -0.0617,  0.0974, -0.0802, -0.0847, -0.0718,\n",
              "        -0.0908, -0.0202, -0.0534,  0.0820,  0.0535,  0.0475,  0.0859, -0.0826,\n",
              "        -0.0601,  0.0843,  0.0728,  0.0158,  0.0559,  0.0256, -0.0076, -0.0335,\n",
              "         0.0351, -0.0812,  0.0986, -0.0882, -0.0757,  0.0733, -0.0580, -0.0489,\n",
              "        -0.0237, -0.0873, -0.0048, -0.0143, -0.0200, -0.0005, -0.0672, -0.0173,\n",
              "        -0.0119, -0.0989, -0.0742,  0.0770, -0.0958, -0.0198, -0.0588,  0.0993,\n",
              "         0.0736,  0.0492, -0.0511, -0.0882, -0.0157,  0.0612,  0.0117, -0.0547,\n",
              "        -0.0897,  0.0845,  0.0201,  0.0683, -0.0873,  0.0132,  0.0934, -0.0972,\n",
              "        -0.0945, -0.0920, -0.0492, -0.0102,  0.0490, -0.0347,  0.0792,  0.0818,\n",
              "         0.0673, -0.0809,  0.0391,  0.0568,  0.0733, -0.0904, -0.0209, -0.0507,\n",
              "        -0.0376,  0.0291, -0.0056,  0.0434])"
            ]
          },
          "metadata": {},
          "execution_count": 22
        }
      ]
    },
    {
      "cell_type": "code",
      "execution_count": 23,
      "metadata": {
        "colab": {
          "base_uri": "https://localhost:8080/"
        },
        "id": "egEPlWb88csa",
        "outputId": "35800d36-839d-4815-8355-fe7d3456c5c8"
      },
      "outputs": [
        {
          "output_type": "stream",
          "name": "stdout",
          "text": [
            "torch.Size([100, 100])\n",
            "torch.Size([100])\n",
            "tensor([-0.0690, -0.0590, -0.0991, -0.0180, -0.0908, -0.0335,  0.0304,  0.0707,\n",
            "         0.0557,  0.0555], grad_fn=<SliceBackward0>)\n"
          ]
        }
      ],
      "source": [
        "print(model.layer1.weight.shape)\n",
        "print(model.layer1.weight[0].shape)\n",
        "print(model.layer1.weight[0][0:10])"
      ]
    },
    {
      "cell_type": "markdown",
      "metadata": {
        "id": "v-7tH89y8csa"
      },
      "source": [
        "Let's see how this changes when we run through one training batch. For a loss function, we'll just use the square of the Euclidean distance between our `prediction` and the `ideal_output`, and we'll use a basic stochastic gradient descent optimizer."
      ]
    },
    {
      "cell_type": "code",
      "execution_count": 24,
      "metadata": {
        "colab": {
          "base_uri": "https://localhost:8080/"
        },
        "id": "KJch2cJg8csa",
        "outputId": "7cc8c7ee-4039-45eb-a542-6ba2c7e897fc"
      },
      "outputs": [
        {
          "output_type": "stream",
          "name": "stdout",
          "text": [
            "tensor(214.2877, grad_fn=<SumBackward0>)\n"
          ]
        }
      ],
      "source": [
        "optimizer = torch.optim.SGD(model.parameters(), lr=0.001)\n",
        "\n",
        "prediction = model(X)\n",
        "\n",
        "loss = (Y - prediction).pow(2).sum()\n",
        "print(loss)"
      ]
    },
    {
      "cell_type": "markdown",
      "metadata": {
        "id": "4JuaSdLJ8csb"
      },
      "source": [
        "Now, let's call `loss.backward()` and see what happens:"
      ]
    },
    {
      "cell_type": "code",
      "execution_count": 25,
      "metadata": {
        "colab": {
          "base_uri": "https://localhost:8080/"
        },
        "id": "T8aCcWpO8csb",
        "outputId": "4137628b-28c9-4311-c97d-6dd911c8a0c4"
      },
      "outputs": [
        {
          "output_type": "stream",
          "name": "stdout",
          "text": [
            "tensor([-0.0690, -0.0590, -0.0991, -0.0180, -0.0908, -0.0335,  0.0304,  0.0707,\n",
            "         0.0557,  0.0555], grad_fn=<SliceBackward0>)\n",
            "tensor([ 0.0054,  0.0084,  0.0145,  0.0042,  0.0061,  0.0104,  0.0056,  0.0041,\n",
            "         0.0017, -0.0193])\n"
          ]
        }
      ],
      "source": [
        "loss.backward()\n",
        "print(model.layer1.weight[0][0:10])\n",
        "print(model.layer1.weight.grad[0][0:10])"
      ]
    },
    {
      "cell_type": "markdown",
      "metadata": {
        "id": "Lcsr7rKL8csb"
      },
      "source": [
        "We can see that the gradients have been computed for each learning weight, but the weights remain unchanged, because we haven't run the optimizer yet. The optimizer is responsible for updating model weights based on the computed gradients."
      ]
    },
    {
      "cell_type": "code",
      "execution_count": 26,
      "metadata": {
        "colab": {
          "base_uri": "https://localhost:8080/"
        },
        "id": "h0ubb-xC8csb",
        "outputId": "c624997d-0735-4520-a1f2-1f5b23fdfb79"
      },
      "outputs": [
        {
          "output_type": "stream",
          "name": "stdout",
          "text": [
            "tensor([-0.0690, -0.0590, -0.0991, -0.0180, -0.0908, -0.0335,  0.0304,  0.0707,\n",
            "         0.0557,  0.0555], grad_fn=<SliceBackward0>)\n",
            "tensor([ 0.0054,  0.0084,  0.0145,  0.0042,  0.0061,  0.0104,  0.0056,  0.0041,\n",
            "         0.0017, -0.0193])\n"
          ]
        }
      ],
      "source": [
        "optimizer.step()                             #  w(t+1) = w(t) - ita(gradient(loss_funtion))\n",
        "print(model.layer1.weight[0][0:10])\n",
        "print(model.layer1.weight.grad[0][0:10])"
      ]
    },
    {
      "cell_type": "markdown",
      "metadata": {
        "id": "I4u0c2h98csb"
      },
      "source": [
        "One important thing about the process: After calling `optimizer.step()`,we need to call `optimizer.zero_grad()`, or else every time we run `loss.backward()`, the gradients on the learning weights will accumulate:"
      ]
    },
    {
      "cell_type": "code",
      "execution_count": 40,
      "metadata": {
        "colab": {
          "base_uri": "https://localhost:8080/",
          "height": 245
        },
        "id": "2_anhxsv8csb",
        "outputId": "b4de91cd-fa77-489b-f378-787dd323e160"
      },
      "outputs": [
        {
          "output_type": "stream",
          "name": "stdout",
          "text": [
            "tensor([ 0.0276,  0.0411,  0.0727,  0.0199,  0.0304,  0.0519,  0.0271,  0.0195,\n",
            "         0.0088, -0.0967])\n",
            "tensor([-0.0690, -0.0590, -0.0991, -0.0180, -0.0908, -0.0335,  0.0304,  0.0707,\n",
            "         0.0557,  0.0555], grad_fn=<SliceBackward0>)\n"
          ]
        },
        {
          "output_type": "error",
          "ename": "TypeError",
          "evalue": "'NoneType' object is not subscriptable",
          "traceback": [
            "\u001b[0;31m---------------------------------------------------------------------------\u001b[0m",
            "\u001b[0;31mTypeError\u001b[0m                                 Traceback (most recent call last)",
            "\u001b[0;32m<ipython-input-40-92aca0f4c049>\u001b[0m in \u001b[0;36m<cell line: 12>\u001b[0;34m()\u001b[0m\n\u001b[1;32m     10\u001b[0m \u001b[0moptimizer\u001b[0m\u001b[0;34m.\u001b[0m\u001b[0mzero_grad\u001b[0m\u001b[0;34m(\u001b[0m\u001b[0;34m)\u001b[0m\u001b[0;34m\u001b[0m\u001b[0;34m\u001b[0m\u001b[0m\n\u001b[1;32m     11\u001b[0m \u001b[0;31m# error since all the gradients are set to none\u001b[0m\u001b[0;34m\u001b[0m\u001b[0;34m\u001b[0m\u001b[0m\n\u001b[0;32m---> 12\u001b[0;31m \u001b[0mprint\u001b[0m\u001b[0;34m(\u001b[0m\u001b[0mmodel\u001b[0m\u001b[0;34m.\u001b[0m\u001b[0mlayer1\u001b[0m\u001b[0;34m.\u001b[0m\u001b[0mweight\u001b[0m\u001b[0;34m.\u001b[0m\u001b[0mgrad\u001b[0m\u001b[0;34m[\u001b[0m\u001b[0;36m0\u001b[0m\u001b[0;34m]\u001b[0m\u001b[0;34m[\u001b[0m\u001b[0;36m0\u001b[0m\u001b[0;34m:\u001b[0m\u001b[0;36m10\u001b[0m\u001b[0;34m]\u001b[0m\u001b[0;34m)\u001b[0m\u001b[0;34m\u001b[0m\u001b[0;34m\u001b[0m\u001b[0m\n\u001b[0m",
            "\u001b[0;31mTypeError\u001b[0m: 'NoneType' object is not subscriptable"
          ]
        }
      ],
      "source": [
        "\n",
        "\n",
        "for i in range(0, 5):\n",
        "    prediction = model(X)\n",
        "    loss = (Y - prediction).pow(2).sum()\n",
        "    loss.backward()\n",
        "\n",
        "print(model.layer1.weight.grad[0][0:10])\n",
        "print(model.layer1.weight[0][0:10])\n",
        "\n",
        "# setting gradients to zero\n",
        "optimizer.zero_grad()\n",
        "# error since all the gradients are set to none\n",
        "print(model.layer1.weight.grad[0][0:10])"
      ]
    },
    {
      "cell_type": "code",
      "source": [
        "print(model)\n",
        "model.layer1.weight\n",
        "model.layer1.bias\n",
        "model.layer2.weight\n",
        "model.layer3.weight"
      ],
      "metadata": {
        "colab": {
          "base_uri": "https://localhost:8080/",
          "height": 315
        },
        "id": "FsCokAYXkn7W",
        "outputId": "c65a47a2-a857-43ee-c3cc-14d7e8a370e8"
      },
      "execution_count": 41,
      "outputs": [
        {
          "output_type": "stream",
          "name": "stdout",
          "text": [
            "Model(\n",
            "  (layer1): Linear(in_features=100, out_features=100, bias=True)\n",
            "  (sigmoid): Sigmoid()\n",
            "  (layer2): Linear(in_features=100, out_features=10, bias=True)\n",
            "  (layer3): Linear(in_features=10, out_features=10, bias=True)\n",
            ")\n"
          ]
        },
        {
          "output_type": "error",
          "ename": "TypeError",
          "evalue": "'NoneType' object is not subscriptable",
          "traceback": [
            "\u001b[0;31m---------------------------------------------------------------------------\u001b[0m",
            "\u001b[0;31mTypeError\u001b[0m                                 Traceback (most recent call last)",
            "\u001b[0;32m<ipython-input-41-8579c59f1416>\u001b[0m in \u001b[0;36m<cell line: 2>\u001b[0;34m()\u001b[0m\n\u001b[1;32m      1\u001b[0m \u001b[0mprint\u001b[0m\u001b[0;34m(\u001b[0m\u001b[0mmodel\u001b[0m\u001b[0;34m)\u001b[0m\u001b[0;34m\u001b[0m\u001b[0;34m\u001b[0m\u001b[0m\n\u001b[0;32m----> 2\u001b[0;31m \u001b[0mmodel\u001b[0m\u001b[0;34m.\u001b[0m\u001b[0mlayer1\u001b[0m\u001b[0;34m.\u001b[0m\u001b[0mweight\u001b[0m\u001b[0;34m.\u001b[0m\u001b[0mgrad\u001b[0m\u001b[0;34m[\u001b[0m\u001b[0;36m0\u001b[0m\u001b[0;34m]\u001b[0m\u001b[0;34m\u001b[0m\u001b[0;34m\u001b[0m\u001b[0m\n\u001b[0m\u001b[1;32m      3\u001b[0m \u001b[0;31m# model.layer1.bias\u001b[0m\u001b[0;34m\u001b[0m\u001b[0;34m\u001b[0m\u001b[0m\n\u001b[1;32m      4\u001b[0m \u001b[0;31m# model.layer2.weight\u001b[0m\u001b[0;34m\u001b[0m\u001b[0;34m\u001b[0m\u001b[0m\n\u001b[1;32m      5\u001b[0m \u001b[0;31m# model.layer3.weight\u001b[0m\u001b[0;34m\u001b[0m\u001b[0;34m\u001b[0m\u001b[0m\n",
            "\u001b[0;31mTypeError\u001b[0m: 'NoneType' object is not subscriptable"
          ]
        }
      ]
    },
    {
      "cell_type": "markdown",
      "source": [],
      "metadata": {
        "id": "bHuaKkMnciRr"
      }
    },
    {
      "cell_type": "markdown",
      "metadata": {
        "id": "H9dFbtAX8csb"
      },
      "source": [
        "After running the cell above, we can see that after running `loss.backward()` multiple times, the magnitudes of most of the gradients will be much larger.\n",
        "\n",
        "## Turning Autograd Off and On\n",
        "\n",
        "There are situations where you will need fine-grained control over whether autograd is enabled. There are multiple ways to do this, depending on the situation.\n",
        "\n",
        "The simplest is to change the `requires_grad` flag on a tensor directly:"
      ]
    },
    {
      "cell_type": "code",
      "execution_count": null,
      "metadata": {
        "id": "k8pfyc258csb"
      },
      "outputs": [],
      "source": [
        "a = torch.ones(2, 3, requires_grad=True)\n",
        "print(a)\n",
        "\n",
        "b1 = 2 * a\n",
        "print(b1)\n",
        "\n",
        "a.requires_grad = False\n",
        "b2 = 2 * a\n",
        "print(b2)"
      ]
    },
    {
      "cell_type": "markdown",
      "metadata": {
        "id": "PNAvGAad8csc"
      },
      "source": [
        "In the above cell, we see that `b1` has a `grad_fn` (computation history tracking is ON), which is expect, since it was derived from a tensor, `a`, that had autograd turned on.\n",
        "\n",
        "When we turn off autograd explicitly with `a.requires_grad = False`, computation history is no longer tracked, which we can see when we compute `b2`.\n",
        "\n",
        "If you only need autograd turned off temporarily, a better way is to use the `torch.no_grad()`:"
      ]
    },
    {
      "cell_type": "code",
      "execution_count": 42,
      "metadata": {
        "scrolled": false,
        "id": "nmTP3BGR8csc",
        "colab": {
          "base_uri": "https://localhost:8080/"
        },
        "outputId": "e9d8612c-0121-4814-bd10-1f21a094b1a4"
      },
      "outputs": [
        {
          "output_type": "stream",
          "name": "stdout",
          "text": [
            "tensor([[5., 5., 5.],\n",
            "        [5., 5., 5.]], grad_fn=<AddBackward0>)\n",
            "tensor([[5., 5., 5.],\n",
            "        [5., 5., 5.]])\n",
            "tensor([[6., 6., 6.],\n",
            "        [6., 6., 6.]], grad_fn=<MulBackward0>)\n"
          ]
        }
      ],
      "source": [
        "a = torch.ones(2, 3, requires_grad=True) * 2\n",
        "b = torch.ones(2, 3, requires_grad=True) * 3\n",
        "\n",
        "c1 = a + b\n",
        "print(c1)\n",
        "\n",
        "with torch.no_grad():\n",
        "    c2 = a + b\n",
        "\n",
        "print(c2)\n",
        "\n",
        "c3 = a * b\n",
        "print(c3)"
      ]
    },
    {
      "cell_type": "markdown",
      "metadata": {
        "id": "0hSLKhfb8csc"
      },
      "source": [
        "`torch.no_grad()` can also be used as a function or method dectorator:"
      ]
    },
    {
      "cell_type": "code",
      "execution_count": 44,
      "metadata": {
        "id": "vcF7Es8Q8csc",
        "colab": {
          "base_uri": "https://localhost:8080/"
        },
        "outputId": "39eaecd5-15e5-4b92-dde6-5ce95c7fcf55"
      },
      "outputs": [
        {
          "output_type": "stream",
          "name": "stdout",
          "text": [
            "tensor([[5., 5., 5.],\n",
            "        [5., 5., 5.]], grad_fn=<AddBackward0>)\n",
            "tensor([[5., 5., 5.],\n",
            "        [5., 5., 5.]])\n"
          ]
        }
      ],
      "source": [
        "def add_tensors1(x, y):\n",
        "    return x + y\n",
        "\n",
        "@torch.no_grad()\n",
        "def add_tensors2(x, y):\n",
        "    return x + y\n",
        "\n",
        "\n",
        "a = torch.ones(2, 3, requires_grad=True) * 2\n",
        "b = torch.ones(2, 3, requires_grad=True) * 3\n",
        "\n",
        "c1 = add_tensors1(a, b)\n",
        "print(c1)\n",
        "\n",
        "c2 = add_tensors2(a, b)\n",
        "print(c2)"
      ]
    },
    {
      "cell_type": "code",
      "source": [
        "#  Create a tensor with requires_grad=True to track operations\n",
        "x = torch.tensor([2.0, 3.0], requires_grad=True)\n",
        "\n",
        "# Perform operations on x\n",
        "y = x**2 + 3*x + 1  # A quadratic function: y = x^2 + 3x + 1\n",
        "\n",
        "# Sum the result to get a scalar for backward()\n",
        "z = y.sum()\n",
        "\n",
        "# Perform backpropagation to compute gradients\n",
        "z.backward()\n",
        "\n",
        "# Output the gradients with respect to x\n",
        "print(\"x:\", x)\n",
        "print(\"y:\", y)\n",
        "print(\"Sum z:\", z)\n",
        "print(\"Gradients (dz/dx):\", x.grad)  # Should be the derivative of y = x^2 + 3x + 1 w.r.t x\n",
        "print(x.grad.detach())\n",
        "print('Simple derivative of y w r x:',2*x+3)\n",
        "\n"
      ],
      "metadata": {
        "id": "xPEy-KT-CJrO",
        "colab": {
          "base_uri": "https://localhost:8080/"
        },
        "outputId": "6f85c590-c601-48cb-bc51-1a469dbe2e6d"
      },
      "execution_count": 49,
      "outputs": [
        {
          "output_type": "stream",
          "name": "stdout",
          "text": [
            "x: tensor([2., 3.], requires_grad=True)\n",
            "y: tensor([11., 19.], grad_fn=<AddBackward0>)\n",
            "Sum z: tensor(30., grad_fn=<SumBackward0>)\n",
            "Gradients (dz/dx): tensor([7., 9.])\n",
            "tensor([7., 9.])\n",
            "Simple derivative of y w r x: tensor([7., 9.], grad_fn=<AddBackward0>)\n"
          ]
        }
      ]
    },
    {
      "cell_type": "code",
      "source": [
        "#c leaf\n",
        "print(f\"Is 'x' a leaf tensor? {x.is_leaf}\")  # True\n",
        "print(f\"Is 'y' a leaf tensor? {y.is_leaf}\")  # False\n",
        "print(f\"Is 'z' a leaf tensor? {z.is_leaf}\")  # False"
      ],
      "metadata": {
        "colab": {
          "base_uri": "https://localhost:8080/"
        },
        "id": "AP9S52Ntl3bD",
        "outputId": "62365b90-1da1-42e4-c673-8bb445dd97b7"
      },
      "execution_count": 51,
      "outputs": [
        {
          "output_type": "stream",
          "name": "stdout",
          "text": [
            "Is 'x' a leaf tensor? True\n",
            "Is 'y' a leaf tensor? False\n",
            "Is 'z' a leaf tensor? False\n"
          ]
        }
      ]
    }
  ],
  "metadata": {
    "kernelspec": {
      "display_name": "Python 3",
      "name": "python3"
    },
    "language_info": {
      "codemirror_mode": {
        "name": "ipython",
        "version": 3
      },
      "file_extension": ".py",
      "mimetype": "text/x-python",
      "name": "python",
      "nbconvert_exporter": "python",
      "pygments_lexer": "ipython3",
      "version": "3.8.2"
    },
    "colab": {
      "provenance": [],
      "include_colab_link": true
    }
  },
  "nbformat": 4,
  "nbformat_minor": 0
}